{
 "cells": [
  {
   "cell_type": "code",
   "execution_count": 1,
   "id": "0a00b1a9",
   "metadata": {
    "tags": []
   },
   "outputs": [
    {
     "name": "stdout",
     "output_type": "stream",
     "text": [
      "c1 = ['X1', 'X2', 'X3']\n",
      "c2 = ['X4', 'X5']\n",
      "Küme Merkezleri:\n",
      "[[ 5.          2.33333333]\n",
      " [10.5         7.        ]]\n",
      "Küme Etiketleri:\n",
      "[0 0 0 1 1]\n",
      "Toplam Kare Hata (J): 9.166666666666668\n"
     ]
    }
   ],
   "source": [
    "import numpy as np\n",
    "import pandas as pd\n",
    "from math import sqrt\n",
    "\n",
    "def k_ortalama_kumeleme(veri, k=2, maks_iterasyon=100, eşik=0.5):\n",
    "    \n",
    "    X = veri[['Değişken1', 'Değişken2']].values\n",
    "    \n",
    "    \n",
    "    merkezler = X[np.random.choice(len(X), k, replace=False)].copy()\n",
    "\n",
    "    for iterasyon in range(maks_iterasyon):\n",
    "        \n",
    "        etiketler = np.argmin(np.linalg.norm(X[:, np.newaxis] - merkezler, axis=2), axis=1)\n",
    "\n",
    "        \n",
    "        yeni_merkezler = np.array([np.mean(X[etiketler == i], axis=0) for i in range(k)])\n",
    "\n",
    "        \n",
    "        if np.all(merkezler == yeni_merkezler):\n",
    "            break\n",
    "\n",
    "        merkezler = yeni_merkezler\n",
    "\n",
    "    \n",
    "    hata = np.sum(np.square(np.linalg.norm(X - merkezler[etiketler], axis=1)))\n",
    "\n",
    "    return merkezler, etiketler, hata\n",
    "\n",
    "\n",
    "veri = {\n",
    "    'Gözlemler': ['X1', 'X2', 'X3', 'X4', 'X5'],\n",
    "    'Değişken1': [4, 6, 5, 10, 11],\n",
    "    'Değişken2': [2, 4, 1, 6, 8]\n",
    "}\n",
    "\n",
    "df_veri = pd.DataFrame(veri)\n",
    "\n",
    "k = 2  \n",
    "\n",
    "\n",
    "merkezler, etiketler, hata = k_ortalama_kumeleme(df_veri, k=k)\n",
    "\n",
    "\n",
    "for i in range(k):\n",
    "    print(f\"c{i+1} =\", list(df_veri['Gözlemler'][etiketler == i]))\n",
    "\n",
    "\n",
    "print(\"Küme Merkezleri:\")\n",
    "print(merkezler)\n",
    "print(\"Küme Etiketleri:\")\n",
    "print(etiketler)\n",
    "print(\"Toplam Kare Hata (J):\", hata)\n",
    "\n"
   ]
  },
  {
   "cell_type": "code",
   "execution_count": null,
   "id": "0f8aa7ee",
   "metadata": {
    "tags": []
   },
   "outputs": [],
   "source": []
  },
  {
   "cell_type": "code",
   "execution_count": null,
   "id": "5638fdec-b521-48c5-b27e-3915030244a2",
   "metadata": {
    "tags": []
   },
   "outputs": [],
   "source": []
  }
 ],
 "metadata": {
  "kernelspec": {
   "display_name": "Python 3 (ipykernel)",
   "language": "python",
   "name": "python3"
  },
  "language_info": {
   "codemirror_mode": {
    "name": "ipython",
    "version": 3
   },
   "file_extension": ".py",
   "mimetype": "text/x-python",
   "name": "python",
   "nbconvert_exporter": "python",
   "pygments_lexer": "ipython3",
   "version": "3.11.5"
  }
 },
 "nbformat": 4,
 "nbformat_minor": 5
}
